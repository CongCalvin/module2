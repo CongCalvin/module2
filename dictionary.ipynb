{
 "cells": [
  {
   "cell_type": "code",
   "execution_count": null,
   "metadata": {},
   "outputs": [],
   "source": [
    "dictionary1 = {'sun': 'mat troi',\n",
    "'moon': 'mat trang',\n",
    "'sky': 'nau troi',\n",
    "'router': 'thiet bi dinh tuyen',\n",
    "'switching': 'chuyen mach',\n",
    "'train': 'con tau'}\n",
    "#key: value"
   ]
  },
  {
   "cell_type": "code",
   "execution_count": null,
   "metadata": {},
   "outputs": [],
   "source": [
    "dictionary1"
   ]
  },
  {
   "cell_type": "code",
   "execution_count": null,
   "metadata": {},
   "outputs": [],
   "source": [
    "router1 = {\n",
    "    'hostname': 'r1',\n",
    "    'ip': '1.1.1.1',\n",
    "    'port': 2001,\n",
    "    'os': 'cisco-iox',\n",
    "    'vendor': 'cisco',\n",
    "    'username': 'admin',\n",
    "    'password': 'cisco123'\n",
    "}\n",
    "router2 = {\n",
    "    'hostname': 'r2',\n",
    "    'ip': '1.1.1.2',\n",
    "    'port': 2002,\n",
    "    'os': 'junos',\n",
    "    'vendor': 'juniper',\n",
    "    'username': 'admin',\n",
    "    'password': 'admin'    \n",
    "}\n",
    "vietcombak = {\n",
    "    'name': 'vietcombank',\n",
    "    'rd': '7552:1',\n",
    "    'rt-export': '7552:11',\n",
    "    'rt-import': '7552:12',\n",
    "    'interface': 'gi0/0/0/1',\n",
    "    'ip': '192.168.1.1/24'\n",
    "}\n",
    "vietinbak = {\n",
    "    'name': 'viettinbank',\n",
    "    'rd': '7552:2',\n",
    "    'rt-export': '7552:22',\n",
    "    'rt-import': '7552:23',\n",
    "    'interface': 'gi0/0/0/2',\n",
    "    'ip': '192.168.0.0/24',\n",
    "    'static_routes':\n",
    "        {\n",
    "            'nexthop':'1.1.1.10',\n",
    "            'nets': ['10.0.0.0/16', '10.1.0.0/16','10.2.0.0/16']\n",
    "        }\n",
    "}"
   ]
  },
  {
   "cell_type": "code",
   "execution_count": null,
   "metadata": {},
   "outputs": [],
   "source": [
    "router_list = [router1, router2]\n",
    "customer_list = [vietcombak, vietinbak]"
   ]
  },
  {
   "cell_type": "code",
   "execution_count": null,
   "metadata": {},
   "outputs": [],
   "source": [
    "customer_list[1]['static_routes']['nexthop']"
   ]
  },
  {
   "cell_type": "code",
   "execution_count": null,
   "metadata": {},
   "outputs": [],
   "source": [
    "customer_list[1]['static_routes']['nets']"
   ]
  },
  {
   "cell_type": "code",
   "execution_count": null,
   "metadata": {},
   "outputs": [],
   "source": [
    "for i in customer_list[1]['static_routes']['nets']:\n",
    "    print(i)"
   ]
  },
  {
   "cell_type": "code",
   "execution_count": null,
   "metadata": {},
   "outputs": [],
   "source": [
    "len(customer_list[1])"
   ]
  },
  {
   "cell_type": "code",
   "execution_count": null,
   "metadata": {},
   "outputs": [],
   "source": [
    "len(vietcombak)"
   ]
  },
  {
   "cell_type": "code",
   "execution_count": null,
   "metadata": {},
   "outputs": [],
   "source": [
    "vietcombak.keys()"
   ]
  },
  {
   "cell_type": "code",
   "execution_count": null,
   "metadata": {},
   "outputs": [],
   "source": [
    "vietinbak.values()"
   ]
  },
  {
   "cell_type": "code",
   "execution_count": null,
   "metadata": {},
   "outputs": [],
   "source": [
    "vietinbak.items()"
   ]
  },
  {
   "cell_type": "code",
   "execution_count": null,
   "metadata": {},
   "outputs": [],
   "source": [
    "vietinbak['ip'] = '1.1.1.100/29'\n",
    "vietinbak['static_routes']['nexthop'] = '1.1.1.100'\n",
    "vietinbak"
   ]
  },
  {
   "cell_type": "code",
   "execution_count": null,
   "metadata": {},
   "outputs": [],
   "source": [
    "for item in vietinbak.items():\n",
    "    print(item[0], '-->', item[1])"
   ]
  },
  {
   "cell_type": "code",
   "execution_count": null,
   "metadata": {},
   "outputs": [],
   "source": [
    "for k in vietinbak:\n",
    "    print (k, '-->', vietinbak[k])\n"
   ]
  },
  {
   "cell_type": "code",
   "execution_count": null,
   "metadata": {},
   "outputs": [],
   "source": [
    "for k,v in vietinbak.items():\n",
    "    print(k, '-->', v)"
   ]
  },
  {
   "cell_type": "code",
   "execution_count": 118,
   "metadata": {},
   "outputs": [
    {
     "data": {
      "text/plain": [
       "{'name': 'SHB',\n",
       " 'rd': '65001:1',\n",
       " 'rt': '65001:2',\n",
       " 'interface': 'Gi0/0/1',\n",
       " 'ip': '1.1.1.1'}"
      ]
     },
     "execution_count": 118,
     "metadata": {},
     "output_type": "execute_result"
    }
   ],
   "source": [
    "k = ['name','rd','rt','interface','ip']\n",
    "v = ['SHB','65001:1','65001:2','Gi0/0/1','1.1.1.1']\n",
    "l = len(k)\n",
    "\n",
    "shb = {k[i] : v[i] for i in range (l) }\n",
    "(shb)\n",
    "\n",
    "# i = 0\n",
    "# k[0]=name, v[0]=SHB\n",
    "# k[0]:v[0]=name:SHB"
   ]
  },
  {
   "cell_type": "code",
   "execution_count": 122,
   "metadata": {},
   "outputs": [
    {
     "data": {
      "text/plain": [
       "{'name': 'SHB',\n",
       " 'rd': '65001:1',\n",
       " 'rt': '65001:2',\n",
       " 'interface': 'Gi0/0/1',\n",
       " 'ip': '2.2.2.2'}"
      ]
     },
     "execution_count": 122,
     "metadata": {},
     "output_type": "execute_result"
    }
   ],
   "source": [
    "shb['ip']='2.2.2.2'\n",
    "shb"
   ]
  }
 ],
 "metadata": {
  "interpreter": {
   "hash": "916dbcbb3f70747c44a77c7bcd40155683ae19c65e1c03b4aa3499c5328201f1"
  },
  "kernelspec": {
   "display_name": "Python 3.10.4 64-bit",
   "language": "python",
   "name": "python3"
  },
  "language_info": {
   "codemirror_mode": {
    "name": "ipython",
    "version": 3
   },
   "file_extension": ".py",
   "mimetype": "text/x-python",
   "name": "python",
   "nbconvert_exporter": "python",
   "pygments_lexer": "ipython3",
   "version": "3.10.4"
  },
  "orig_nbformat": 4
 },
 "nbformat": 4,
 "nbformat_minor": 2
}
