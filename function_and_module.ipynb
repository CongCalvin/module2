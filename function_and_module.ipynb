{
 "cells": [
  {
   "cell_type": "code",
   "execution_count": null,
   "metadata": {},
   "outputs": [],
   "source": [
    "def func1():\n",
    "    pass\n",
    "func1()"
   ]
  },
  {
   "cell_type": "code",
   "execution_count": null,
   "metadata": {},
   "outputs": [],
   "source": [
    "def show_config():\n",
    "    print('vrf vietcombank')\n",
    "    print('rd 65001:1')\n",
    "    print('address-family ipv4')\n",
    "    print('rt-import 65001:1')\n",
    "    print('rt-export 65001:2')\n",
    "\n",
    "show_config()\n"
   ]
  },
  {
   "cell_type": "code",
   "execution_count": 29,
   "metadata": {},
   "outputs": [],
   "source": [
    "vietcombank ={\n",
    "    'name': 'vietcombank',\n",
    "    'rd': '65001:1',\n",
    "    'rt-import': '65001:2',\n",
    "    'rt-export': '65001:3'\n",
    "}"
   ]
  },
  {
   "cell_type": "code",
   "execution_count": 34,
   "metadata": {},
   "outputs": [
    {
     "name": "stdout",
     "output_type": "stream",
     "text": [
      "vrf vietcombank\n",
      "rd 65001:1\n",
      "address-family ipv4\n",
      "rt-import 65001:2\n",
      "rt-export 65001:3\n"
     ]
    }
   ],
   "source": [
    "def show_config(customer):\n",
    "    print(f\"vrf {customer['name']}\")\n",
    "    print(f\"rd {customer['rd']}\")\n",
    "    print('address-family ipv4')\n",
    "    print(f\"rt-import {vietcombank['rt-import']}\")\n",
    "    print(f\"rt-export {vietcombank['rt-export']}\")\n",
    "show_config(vietcombank)"
   ]
  }
 ],
 "metadata": {
  "interpreter": {
   "hash": "916dbcbb3f70747c44a77c7bcd40155683ae19c65e1c03b4aa3499c5328201f1"
  },
  "kernelspec": {
   "display_name": "Python 3.10.4 64-bit",
   "language": "python",
   "name": "python3"
  },
  "language_info": {
   "codemirror_mode": {
    "name": "ipython",
    "version": 3
   },
   "file_extension": ".py",
   "mimetype": "text/x-python",
   "name": "python",
   "nbconvert_exporter": "python",
   "pygments_lexer": "ipython3",
   "version": "3.10.4"
  },
  "orig_nbformat": 4
 },
 "nbformat": 4,
 "nbformat_minor": 2
}
