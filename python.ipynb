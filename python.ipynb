{
 "cells": [
  {
   "cell_type": "code",
   "execution_count": null,
   "metadata": {},
   "outputs": [],
   "source": [
    "i=0\n",
    "j=5\n",
    "while i<50 and j<50:\n",
    "        print(i+j)\n",
    "        i + 5;\n",
    "        j += 10;"
   ]
  },
  {
   "cell_type": "code",
   "execution_count": null,
   "metadata": {},
   "outputs": [],
   "source": [
    "print('config terminal','interface gi 0/0/0/0', 'commit', sep='\\n')\n",
    "#print('end')"
   ]
  },
  {
   "cell_type": "code",
   "execution_count": null,
   "metadata": {},
   "outputs": [],
   "source": [
    "a =10\n",
    "a *= 5 #a=a*5\n",
    "a"
   ]
  },
  {
   "cell_type": "code",
   "execution_count": null,
   "metadata": {},
   "outputs": [],
   "source": [
    "ip1='192.168.86.141'\n",
    "ip2='192.168.22.112'\n",
    "print(ip1,ip2,sep='\\n')"
   ]
  },
  {
   "cell_type": "code",
   "execution_count": null,
   "metadata": {},
   "outputs": [],
   "source": [
    "config1 = \"router ospf 1\\n\"\n",
    "config2 = 'area 100\\n'\n",
    "config3 = config1 + config2*5\n",
    "print(config3)"
   ]
  },
  {
   "cell_type": "code",
   "execution_count": null,
   "metadata": {},
   "outputs": [],
   "source": []
  },
  {
   "cell_type": "code",
   "execution_count": null,
   "metadata": {},
   "outputs": [],
   "source": [
    "type(ospf_config)"
   ]
  },
  {
   "cell_type": "code",
   "execution_count": null,
   "metadata": {},
   "outputs": [],
   "source": [
    "ospf_config = \"\"\"router ospf 0\n",
    "area 0\n",
    "neighbor\n",
    "\"\"\"\n",
    "print(ospf_config)"
   ]
  },
  {
   "cell_type": "code",
   "execution_count": null,
   "metadata": {},
   "outputs": [],
   "source": [
    "print(\"\\\"I'm\\\"\\n \\\"\\\"eight\\\"\\\"\\n \\\"\\\"years old\\\"\\\"\")"
   ]
  },
  {
   "cell_type": "code",
   "execution_count": null,
   "metadata": {},
   "outputs": [],
   "source": [
    "vrf_name = 'ACB'\n",
    "rd = '7552:1'\n",
    "rt_export = '65001:1'\n",
    "rt_import = '65000:333'\n",
    "interface = 'Gi0/0/0'\n",
    "ip_add = '1.1.1.1'\n",
    "sub_mask = '255.255.255.0'"
   ]
  },
  {
   "cell_type": "code",
   "execution_count": null,
   "metadata": {},
   "outputs": [],
   "source": [
    "config = f\"\"\"vrf {vrf_name}\n",
    "rd {rd}\n",
    "route-target import {rt_import}\n",
    "ip address {ip_add} {sub_mask}\n",
    "end\n",
    "\"\"\""
   ]
  },
  {
   "cell_type": "code",
   "execution_count": null,
   "metadata": {},
   "outputs": [],
   "source": [
    "print (config)"
   ]
  },
  {
   "cell_type": "code",
   "execution_count": null,
   "metadata": {},
   "outputs": [],
   "source": [
    "# tach lay ky tu tu dau\n",
    "#config[1] \n",
    "#config[11:35]  \n",
    "#config[-10]\n",
    "config[-10:-1]\n"
   ]
  },
  {
   "cell_type": "code",
   "execution_count": null,
   "metadata": {},
   "outputs": [],
   "source": [
    "# tach cac octect\n",
    "ip = 'I LOVE YOU'\n",
    "octecs = ip.split(' ')"
   ]
  },
  {
   "cell_type": "code",
   "execution_count": null,
   "metadata": {},
   "outputs": [],
   "source": [
    "'-----'.join(octecs)"
   ]
  },
  {
   "cell_type": "code",
   "execution_count": null,
   "metadata": {},
   "outputs": [],
   "source": [
    "print(octecs )"
   ]
  },
  {
   "cell_type": "code",
   "execution_count": null,
   "metadata": {},
   "outputs": [],
   "source": [
    "empty_list = []\n",
    "print(empty_list)"
   ]
  },
  {
   "cell_type": "code",
   "execution_count": null,
   "metadata": {},
   "outputs": [],
   "source": [
    "router_list = ['p1','p2','p3','pe1','pe2','pe3',2000]\n",
    "parameters = ['HHT9602CRT02.DCN','intranet',7552,'gi0/0/1', '1.1.1.1']"
   ]
  },
  {
   "cell_type": "code",
   "execution_count": null,
   "metadata": {},
   "outputs": [],
   "source": [
    "parameters[:]"
   ]
  },
  {
   "cell_type": "code",
   "execution_count": null,
   "metadata": {},
   "outputs": [],
   "source": [
    "list1 = [1,2,3]\n",
    "list2 = list1\n",
    "print(list2)"
   ]
  },
  {
   "cell_type": "code",
   "execution_count": null,
   "metadata": {},
   "outputs": [],
   "source": [
    "for item in parameters:\n",
    "    print(item)"
   ]
  },
  {
   "cell_type": "code",
   "execution_count": null,
   "metadata": {},
   "outputs": [],
   "source": [
    "print(parameters)"
   ]
  },
  {
   "cell_type": "code",
   "execution_count": null,
   "metadata": {},
   "outputs": [],
   "source": [
    "ip = '192.168.1.1'\n",
    "octecs = ip.split('.')\n",
    "print(octecs)\n",
    "octecs[2]= str(int (octecs[2]) + 20)\n",
    "print(octecs)\n",
    "new_ip = ('.').join(octecs)\n",
    "print(new_ip)\n",
    "for item in octecs:\n",
    "    print(item)\n"
   ]
  },
  {
   "cell_type": "code",
   "execution_count": null,
   "metadata": {},
   "outputs": [],
   "source": [
    "hostnames = ['p1', 'p2', 'p3']\n",
    "networks = ['1.1.1.0/24', '2.2.2.0/24', '3.3.3.0/24']\n",
    "nexthops = ['1.1.1.10', '2.2.2.10', '3.3.3.10']\n",
    "\n",
    "statics = [hostnames, networks, nexthops]\n",
    "print(statics)"
   ]
  },
  {
   "cell_type": "code",
   "execution_count": null,
   "metadata": {},
   "outputs": [],
   "source": [
    "statics[0][3]"
   ]
  },
  {
   "cell_type": "code",
   "execution_count": null,
   "metadata": {},
   "outputs": [],
   "source": [
    "list1 = [1, 2, 3, 4, 5, 6, 7, 8, 9, 10]\n",
    "new_list = [item for item in list1 if item % 2 == 0]\n",
    "print(new_list)"
   ]
  },
  {
   "cell_type": "code",
   "execution_count": null,
   "metadata": {},
   "outputs": [],
   "source": [
    "list_1_100 = [i for i in range(101)]\n",
    "list_100_1 = [(100-i) for i in range(101)]\n",
    "\n",
    "#print(list_1_100)\n",
    "print   (list_100_1)"
   ]
  },
  {
   "cell_type": "code",
   "execution_count": null,
   "metadata": {},
   "outputs": [],
   "source": [
    "l = len(hostnames)\n",
    "print(l)\n",
    "hostnames_nexthops = [[hostnames[i],nexthops[i]] for i in range(l)]\n",
    "print(hostnames_nexthops)"
   ]
  }
 ],
 "metadata": {
  "interpreter": {
   "hash": "916dbcbb3f70747c44a77c7bcd40155683ae19c65e1c03b4aa3499c5328201f1"
  },
  "kernelspec": {
   "display_name": "Python 3.10.4 64-bit",
   "language": "python",
   "name": "python3"
  },
  "language_info": {
   "codemirror_mode": {
    "name": "ipython",
    "version": 3
   },
   "file_extension": ".py",
   "mimetype": "text/x-python",
   "name": "python",
   "nbconvert_exporter": "python",
   "pygments_lexer": "ipython3",
   "version": "3.10.4"
  },
  "orig_nbformat": 4
 },
 "nbformat": 4,
 "nbformat_minor": 2
}
