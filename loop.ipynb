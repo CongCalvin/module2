{
 "cells": [
  {
   "cell_type": "code",
   "execution_count": null,
   "metadata": {},
   "outputs": [],
   "source": [
    "for i in range (10,100):\n",
    "    if i % 2:\n",
    "        print(i,'_so le do papa', end='--->')\n",
    "    # else:\n",
    "    #     print(i, end='...;')\n",
    "   "
   ]
  },
  {
   "cell_type": "code",
   "execution_count": null,
   "metadata": {},
   "outputs": [],
   "source": [
    "for i in range(10, 101):\n",
    "    if i % 10:\n",
    "       continue   # TRUE thi thoat khoi vong lap\n",
    "    print(i,'_so chan nha mama', end='--->')\n",
    "     "
   ]
  },
  {
   "cell_type": "code",
   "execution_count": null,
   "metadata": {},
   "outputs": [],
   "source": [
    "hostnames = ['p1','p2','p3','pe1','pe2','pe3']\n",
    "for i in hostnames:\n",
    "    if 'pe' in i:\n",
    "        break   # exit vong lap\n",
    "    print(i)"
   ]
  },
  {
   "cell_type": "code",
   "execution_count": 53,
   "metadata": {},
   "outputs": [
    {
     "data": {
      "text/plain": [
       "[['ACbank', '7552:12', '7552:13', 'gi0/0/0', '1.1.1.1/24'],\n",
       " ['MBbank', '7552:22', '7552:33', 'Gi1/1/1', '2.2.2.2/24'],\n",
       " ['VIBank', '7552:55', '7552:66', 'Gi2/2/2', '3.3.3.3/24']]"
      ]
     },
     "execution_count": 53,
     "metadata": {},
     "output_type": "execute_result"
    }
   ],
   "source": [
    "ACbank = ['ACbank', '7552:12', '7552:13','gi0/0/0','1.1.1.1/24']\n",
    "MBbank = ['MBbank', '7552:22', '7552:33', 'Gi1/1/1', '2.2.2.2/24']\n",
    "VIBank = ['VIBank', '7552:55', '7552:66', 'Gi2/2/2', '3.3.3.3/24']\n",
    "customers = [ACbank, MBbank, VIBank]\n",
    "customers"
   ]
  },
  {
   "cell_type": "code",
   "execution_count": 71,
   "metadata": {},
   "outputs": [
    {
     "name": "stdout",
     "output_type": "stream",
     "text": [
      "vrf ACbank\n",
      "    rd 7552:12\n",
      "    address-family ipv4\n",
      "    route-target import 7552:13\n",
      "    exit\n",
      "interface gi0/0/0\n",
      "    ipv4 address 1.1.1.1/24\n",
      "    exit\n",
      "commit\n",
      "vrf MBbank\n",
      "    rd 7552:22\n",
      "    address-family ipv4\n",
      "    route-target import 7552:33\n",
      "    exit\n",
      "interface Gi1/1/1\n",
      "    ipv4 address 2.2.2.2/24\n",
      "    exit\n",
      "commit\n",
      "vrf VIBank\n",
      "    rd 7552:55\n",
      "    address-family ipv4\n",
      "    route-target import 7552:66\n",
      "    exit\n",
      "interface Gi2/2/2\n",
      "    ipv4 address 3.3.3.3/24\n",
      "    exit\n",
      "commit\n"
     ]
    }
   ],
   "source": [
    "for i in customers:\n",
    "    config = f\"\"\"vrf {i[0]}\n",
    "    rd {i[1]}\n",
    "    address-family ipv4\n",
    "    route-target import {i[2]}\n",
    "    exit\n",
    "interface {i[3]}\n",
    "    ipv4 address {i[4]}\n",
    "    exit\n",
    "commit\"\"\"\n",
    "    print(config)"
   ]
  }
 ],
 "metadata": {
  "interpreter": {
   "hash": "916dbcbb3f70747c44a77c7bcd40155683ae19c65e1c03b4aa3499c5328201f1"
  },
  "kernelspec": {
   "display_name": "Python 3.10.4 64-bit",
   "language": "python",
   "name": "python3"
  },
  "language_info": {
   "codemirror_mode": {
    "name": "ipython",
    "version": 3
   },
   "file_extension": ".py",
   "mimetype": "text/x-python",
   "name": "python",
   "nbconvert_exporter": "python",
   "pygments_lexer": "ipython3",
   "version": "3.10.4"
  },
  "orig_nbformat": 4
 },
 "nbformat": 4,
 "nbformat_minor": 2
}
